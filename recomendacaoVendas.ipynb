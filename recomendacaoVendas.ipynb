{
  "cells": [
    {
      "cell_type": "code",
      "execution_count": 1,
      "metadata": {
        "id": "ZUPCG_irBbP2"
      },
      "outputs": [],
      "source": [
        "import random\n",
        "import pandas as pd\n",
        "import numpy as np\n",
        "from scipy.sparse import csr_matrix\n",
        "from sklearn.neighbors import NearestNeighbors"
      ]
    },
    {
      "cell_type": "code",
      "execution_count": 3,
      "metadata": {
        "id": "dcOeOkLqp6kH"
      },
      "outputs": [],
      "source": [
        "tabela = pd.read_excel(\"vendas_2022-04-20-16-14-59 1.xlsx\")\n",
        "\n",
        "df = pd.DataFrame(tabela, columns = ['ID', 'Descrição', 'Quantidade'])\n",
        "\n",
        "df.rename(columns = {'ID':'id-usuario', 'Descrição':'nome-produto', 'Quantidade':'compra'}, inplace = True)\n",
        "\n",
        "df['compra'] = 1\n",
        "\n",
        "table_pivot = df.pivot(index = 'nome-produto', columns = 'id-usuario', values = 'compra')\n",
        "\n",
        "pd.set_option('display.max_columns', None)\n",
        "\n",
        "replaceNaN = table_pivot.fillna(0, inplace = True)\n",
        "\n",
        "table_sparse = csr_matrix(table_pivot)\n"
      ]
    },
    {
      "cell_type": "code",
      "execution_count": null,
      "metadata": {
        "id": "NRQJE5orqCgv"
      },
      "outputs": [],
      "source": [
        "model = NearestNeighbors(algorithm = 'brute')\n",
        "model.fit(table_sparse)"
      ]
    },
    {
      "cell_type": "code",
      "execution_count": 5,
      "metadata": {
        "colab": {
          "base_uri": "https://localhost:8080/"
        },
        "id": "kBzKLazld5Dk",
        "outputId": "b2dd36ed-6a82-4e64-f7a6-6ccbb194d01d"
      },
      "outputs": [
        {
          "name": "stdout",
          "output_type": "stream",
          "text": [
            "Index(['Manga Tommy', 'Biscoito Recheado Bono Chocolate 126g',\n",
            "       'Esponja Multiuso Protege Unha Condor', 'Maionese Liza 472g',\n",
            "       'Linguiça Paio Perdigão 370g'],\n",
            "      dtype='object', name='nome-produto')\n",
            "Recomendação feita para o cliente: 14961895642\n"
          ]
        }
      ],
      "source": [
        "random_client = random.randint(0,356)\n",
        "\n",
        "distances, suggestions = model.kneighbors(table_pivot.iloc[random_client, :].values.reshape(1, -1))\n",
        "for i in range(len(suggestions)):\n",
        "  print(table_pivot.index[suggestions[i]])\n",
        "\n",
        "print(f\"Recomendação feita para o cliente: {df['id-usuario'][random_client]}\")"
      ]
    }
  ],
  "metadata": {
    "colab": {
      "authorship_tag": "ABX9TyPxE8LlrUc8fJ50kki9yQdS",
      "collapsed_sections": [],
      "mount_file_id": "1jzMmdPhWBw_fKI6vD2lbtohKK8tfRLXQ",
      "name": "recomendacaoVendas.ipynb",
      "provenance": []
    },
    "kernelspec": {
      "display_name": "Python 3.10.4 64-bit",
      "language": "python",
      "name": "python3"
    },
    "language_info": {
      "codemirror_mode": {
        "name": "ipython",
        "version": 3
      },
      "file_extension": ".py",
      "mimetype": "text/x-python",
      "name": "python",
      "nbconvert_exporter": "python",
      "pygments_lexer": "ipython3",
      "version": "3.10.4"
    },
    "vscode": {
      "interpreter": {
        "hash": "0764b4ab1cb4df747353109edecb473e64c31bd0bfcf97747049310c692f3a16"
      }
    }
  },
  "nbformat": 4,
  "nbformat_minor": 0
}
